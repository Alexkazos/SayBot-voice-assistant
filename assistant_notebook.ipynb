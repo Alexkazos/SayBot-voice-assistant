{
 "cells": [
  {
   "cell_type": "code",
   "execution_count": 30,
   "metadata": {},
   "outputs": [],
   "source": [
    "import speech_recognition as sr\n",
    "import pyttsx3\n",
    "import pywhatkit\n",
    "import openai\n",
    "import os"
   ]
  },
  {
   "cell_type": "code",
   "execution_count": 22,
   "metadata": {},
   "outputs": [],
   "source": [
    "openai.api_key = os.getenv('OPENAI_API_KEY')"
   ]
  },
  {
   "cell_type": "code",
   "execution_count": 23,
   "metadata": {},
   "outputs": [],
   "source": [
    "# initialize text-to-speech engine\n",
    "engine = pyttsx3.init()\n",
    "voices = engine.getProperty('voices')\n",
    "engine.setProperty('voice', voices[1].id)"
   ]
  },
  {
   "cell_type": "code",
   "execution_count": 24,
   "metadata": {},
   "outputs": [],
   "source": [
    "# define function to speak a response\n",
    "def speak(text):\n",
    "    engine.say(text)\n",
    "    engine.runAndWait()\n",
    "\n",
    "# define function to listen to user's voice command\n",
    "def get_command():\n",
    "    # initialize recognizer and microphone\n",
    "    r = sr.Recognizer()\n",
    "    with sr.Microphone() as source:\n",
    "        print(\"Listening...\")\n",
    "        # adjust for ambient noise\n",
    "        r.adjust_for_ambient_noise(source)\n",
    "        # listen for user's voice command\n",
    "        audio = r.listen(source)\n",
    "        try:\n",
    "            # recognize speech using Google Speech Recognition\n",
    "            command = r.recognize_google(audio)\n",
    "            print(\"You said: \" + command)\n",
    "        except sr.UnknownValueError:\n",
    "            speak(\"Sorry, I did not understand.\")\n",
    "            command = \"\"\n",
    "        return command.lower()"
   ]
  },
  {
   "cell_type": "code",
   "execution_count": 34,
   "metadata": {},
   "outputs": [],
   "source": [
    "# class CreateBot:\n",
    "#     def __init__(self):\n",
    "#         system_prompt = \"You are a helpful AI Assistant that only answers if its 100% certaint\"\n",
    "#         self.system = system_prompt\n",
    "#         self.messages = [{'role':'system','content':system_prompt}]\n",
    "\n",
    "#     def chat(self,command):\n",
    "#         # print('To terminate the conversation, type \"END\"')\n",
    "#         question = command\n",
    "#         n = 1\n",
    "#         while \"exit\" not in question or \"stop\" not in question or \"play\" not in question:\n",
    "\n",
    "#             if question == command and n != 1:\n",
    "#                 command = get_command()\n",
    "#             question = command\n",
    "#             # print('\\n')\n",
    "#             self.messages.append({'role':'user','content':question})\n",
    "#             response = openai.Completion.create(\n",
    "#                 model='davinci',\n",
    "#                 prompt='\\n'.join([m['content'] for m in self.messages]),\n",
    "#                 temperature=0.1,\n",
    "#                 max_tokens=512,\n",
    "#                 top_p=1,\n",
    "#                 frequency_penalty=0.6,\n",
    "#                 presence_penalty=0.2\n",
    "#             )\n",
    "#             content = response.choices[0].text.strip()\n",
    "#             print(content)\n",
    "#             speak(content)\n",
    "#             n =2\n",
    "#             self.messages.append({'role':'assistant','content':content})\n"
   ]
  },
  {
   "cell_type": "code",
   "execution_count": 39,
   "metadata": {},
   "outputs": [],
   "source": [
    "# chat_bot = CreateBot()\n",
    "# chat_bot.chat('what do you know about the Obama')\n"
   ]
  },
  {
   "cell_type": "code",
   "execution_count": 59,
   "metadata": {},
   "outputs": [],
   "source": [
    "# define function to execute voice commands\n",
    "def run_assistant(chat_bot):\n",
    "    command = get_command()\n",
    "    # print(command)\n",
    "    if \"play\" in command:\n",
    "        song = command.split(\"play \")[1]\n",
    "        speak(\"Playing \" + song + \" on YouTube.\")\n",
    "        pywhatkit.playonyt(song)\n",
    "\n",
    "    elif \"exit\" in command or \"stop\" in command:\n",
    "        speak(\"Goodbye!\")\n",
    "        return False\n",
    "\n",
    "    else:\n",
    "        exit_var,command = chat_bot.chat(command)\n",
    "        if exit_var == True:\n",
    "            return False\n",
    "        else:\n",
    "            song = command.split(\"play \")[1]\n",
    "            speak(\"Playing \" + song + \" on YouTube.\")\n",
    "            pywhatkit.playonyt(song)\n",
    "    return True\n",
    "\n"
   ]
  },
  {
   "cell_type": "code",
   "execution_count": 27,
   "metadata": {},
   "outputs": [
    {
     "name": "stdout",
     "output_type": "stream",
     "text": [
      "Listening...\n",
      "You said: blah\n"
     ]
    },
    {
     "data": {
      "text/plain": [
       "'blah'"
      ]
     },
     "execution_count": 27,
     "metadata": {},
     "output_type": "execute_result"
    }
   ],
   "source": [
    "get_command()"
   ]
  },
  {
   "cell_type": "code",
   "execution_count": 60,
   "metadata": {},
   "outputs": [
    {
     "name": "stdout",
     "output_type": "stream",
     "text": [
      "Listening...\n",
      "You said: Obama who is Obama\n",
      "\n",
      "\n",
      "Barack Obama is a former President of the United States. He served as the 44th President from 2009 to 2017.\n",
      "Listening...\n",
      "You said: play BTS\n",
      "Listening...\n",
      "You said: nice song exit exit\n"
     ]
    }
   ],
   "source": [
    "# main program loop\n",
    "AI_ASSISTANT = CreateBot(system_prompt=\"You are a helpful AI Assistant that only answers if its 100% certaint\")\n",
    "speak(\"Hello! How can I assist you?\")\n",
    "while True:\n",
    "    if not run_assistant(AI_ASSISTANT):\n",
    "        break"
   ]
  },
  {
   "cell_type": "code",
   "execution_count": 57,
   "metadata": {},
   "outputs": [],
   "source": [
    "class CreateBot:\n",
    "\n",
    "    def __init__(self,system_prompt):\n",
    "\n",
    "        self.system = system_prompt\n",
    "        self.messages = [{'role':'system','content':system_prompt}]\n",
    "\n",
    "    # def chat(self):\n",
    "    def chat(self,command):\n",
    "\n",
    "        # print('To terminate the conversation, type \"END\"')\n",
    "        # question = ''\n",
    "\n",
    "        question = command\n",
    "        n = 1\n",
    "        exit_var = False\n",
    "        while \"exit\" not in question or \"stop\" not in question or \"play\" not in question:\n",
    "\n",
    "            \n",
    "            \n",
    "            if question == command and n != 1:\n",
    "                command = get_command()\n",
    "            \n",
    "            question = command\n",
    "            \n",
    "            if \"exit\" in command or \"stop\" in question:\n",
    "                exit_var = True\n",
    "            elif \"play\" in command:\n",
    "                break\n",
    "\n",
    "        # while question != 'END':\n",
    "\n",
    "            # user input\n",
    "            # question = input(\"\")\n",
    "            print('\\n')\n",
    "            # ad user input to messages\n",
    "            self.messages.append({'role':'user','content':question})\n",
    "            #grab response\n",
    "            response = openai.ChatCompletion.create(\n",
    "                model='gpt-3.5-turbo',\n",
    "                messages = self.messages,\n",
    "                temperature=0.1,\n",
    "                # max_tokens=512,\n",
    "                max_tokens=126,\n",
    "                top_p=1,\n",
    "                frequency_penalty=0.6,\n",
    "                presence_penalty=0.2\n",
    "            )\n",
    "            #grab response \n",
    "            content = response['choices'][0]['message']['content']\n",
    "            # print('\\n')\n",
    "            print(content)\n",
    "            speak(content)\n",
    "            # print('\\n')\n",
    "            n=2\n",
    "            \n",
    "\n",
    "            self.messages.append({'role':'assistant','content':content})\n",
    "\n",
    "        return exit_var,command\n",
    "\n",
    "            "
   ]
  },
  {
   "cell_type": "code",
   "execution_count": 37,
   "metadata": {},
   "outputs": [],
   "source": [
    "AI_ASSISTANT = CreateBot(system_prompt=\"You are a helpful AI Assistant that only answers if its 100% certaint\")"
   ]
  },
  {
   "cell_type": "code",
   "execution_count": 38,
   "metadata": {},
   "outputs": [
    {
     "name": "stdout",
     "output_type": "stream",
     "text": [
      "To terminate the conversation, type \"END\"\n",
      "\n",
      "\n",
      "\n",
      "\n"
     ]
    },
    {
     "name": "stderr",
     "output_type": "stream",
     "text": [
      "Exception ignored in: <function BSTR.__del__ at 0x00000188CF118280>\n",
      "Traceback (most recent call last):\n",
      "  File \"c:\\Users\\kazos\\anaconda3\\lib\\site-packages\\comtypes\\__init__.py\", line 999, in __del__\n",
      "    def __del__(self, _free=windll.oleaut32.SysFreeString):\n",
      "KeyboardInterrupt: \n"
     ]
    },
    {
     "name": "stdout",
     "output_type": "stream",
     "text": [
      "\n",
      "\n",
      "\n",
      "\n",
      "\n",
      "\n",
      "\n",
      "\n"
     ]
    }
   ],
   "source": [
    "AI_ASSISTANT.chat()"
   ]
  },
  {
   "cell_type": "code",
   "execution_count": null,
   "metadata": {},
   "outputs": [],
   "source": []
  }
 ],
 "metadata": {
  "kernelspec": {
   "display_name": "base",
   "language": "python",
   "name": "python3"
  },
  "language_info": {
   "codemirror_mode": {
    "name": "ipython",
    "version": 3
   },
   "file_extension": ".py",
   "mimetype": "text/x-python",
   "name": "python",
   "nbconvert_exporter": "python",
   "pygments_lexer": "ipython3",
   "version": "3.9.13"
  },
  "orig_nbformat": 4
 },
 "nbformat": 4,
 "nbformat_minor": 2
}
